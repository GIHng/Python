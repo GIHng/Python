{
 "cells": [
  {
   "cell_type": "code",
   "execution_count": null,
   "id": "f054e75d",
   "metadata": {},
   "outputs": [],
   "source": [
    "num = -20\n",
    "\n",
    "if num >= 10:\n",
    "    print('10보다 크거나 같다')\n",
    "else:\n",
    "    print('10보다 작다')\n",
    "\n",
    "# #!는 유닉스의 shebang 이다.\n",
    "# 파이썬에서는 소스 코드의 인코딩을 표시할 목적으로 이용함.\n",
    "\n",
    "# print(dir(num), help(dir))\n",
    "\n",
    "print(sum((1, 2, 3))) # tuple\n",
    "print(sum([1, 2, 3])) # list\n",
    "print(sum({1, 2, 3})) # set"
   ]
  },
  {
   "cell_type": "code",
   "execution_count": null,
   "id": "b785f479",
   "metadata": {},
   "outputs": [],
   "source": [
    "# Keyword\n",
    "import keyword\n",
    "\n",
    "print(keyword.kwlist)"
   ]
  },
  {
   "cell_type": "code",
   "execution_count": 1,
   "id": "0dc19e1d",
   "metadata": {},
   "outputs": [
    {
     "name": "stdout",
     "output_type": "stream",
     "text": [
      "['/Users/hyeongihong/LGHV/LGHV_Python', '/Users/hyeongihong/anaconda3/lib/python310.zip', '/Users/hyeongihong/anaconda3/lib/python3.10', '/Users/hyeongihong/anaconda3/lib/python3.10/lib-dynload', '', '/Users/hyeongihong/anaconda3/lib/python3.10/site-packages', '/Users/hyeongihong/anaconda3/lib/python3.10/site-packages/PyQt5_sip-12.11.0-py3.10-macosx-11.1-arm64.egg', '/Users/hyeongihong/anaconda3/lib/python3.10/site-packages/aeosa', '/Users/hyeongihong/anaconda3/lib/python3.10/site-packages/mpmath-1.2.1-py3.10.egg', '/Users/hyeongihong/anaconda3/lib/python3.10/site-packages/pycurl-7.45.1-py3.10-macosx-11.1-arm64.egg']\n"
     ]
    }
   ],
   "source": [
    "import sys\n",
    "\n",
    "print(sys.path) # 우선 순위는 work directory\n",
    "\n",
    "# 자연어 처리 시 python repository에 저장이 안 됨. -> git에서 가져와야함. 한글 분석기는 java로 설치해야 함. (jar이 있어야.)"
   ]
  }
 ],
 "metadata": {
  "kernelspec": {
   "display_name": "Python 3 (ipykernel)",
   "language": "python",
   "name": "python3"
  },
  "language_info": {
   "codemirror_mode": {
    "name": "ipython",
    "version": 3
   },
   "file_extension": ".py",
   "mimetype": "text/x-python",
   "name": "python",
   "nbconvert_exporter": "python",
   "pygments_lexer": "ipython3",
   "version": "3.10.9"
  }
 },
 "nbformat": 4,
 "nbformat_minor": 5
}
